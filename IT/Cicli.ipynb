{
 "cells": [
  {
   "cell_type": "markdown",
   "metadata": {},
   "source": [
    "# Cicli\n",
    "Nel capitolo sul [controllo di flusso](./ControlloDiFlusso.ipynb) abbiamo visto che il normale flusso di codice che esegue le istruzioni in sequenza può essere deviato usando il comand `if` e le sue varianti.\n",
    "In questo capitolo vedremo i comandi che permettoo di ripetere ciclicamente dei blocchi di codice.\n",
    "\n",
    "Iniziamo con una domanda: se voleste far stampare `\"ciao\"` 5 volte, il modo più semplice di tutti sarebbe questo?"
   ]
  },
  {
   "cell_type": "code",
   "execution_count": null,
   "metadata": {},
   "outputs": [],
   "source": [
    "print(\"ciao\")\n",
    "print(\"ciao\")\n",
    "print(\"ciao\")\n",
    "print(\"ciao\")\n",
    "print(\"ciao\")"
   ]
  },
  {
   "cell_type": "markdown",
   "metadata": {},
   "source": [
    "Se avete provato ad eseguirlo avrete visto che funziona. Ma se dovessimo stamparlo per 10, 100 o per 1000 volte? Potremmo fare nello stesso modo con 100 o 1000 istruzioni `print`...ma certamente è poco pratico! Per questo ci vengono in soccorso i cicli. Lo stesso programma di prima può essere scritto in questo modo:"
   ]
  },
  {
   "cell_type": "code",
   "execution_count": null,
   "metadata": {},
   "outputs": [],
   "source": [
    "i = 0\n",
    "while i < 5:\n",
    "    print(\"ciao\" + str(i))\n",
    "    i = i + 1"
   ]
  },
  {
   "cell_type": "markdown",
   "metadata": {},
   "source": [
    "Quello sopra è un ciclo che si può fare in quasi tutti i linguaggi di programmazione.\n",
    "il comando `while` (che in inglese significa mentre), ripete le istruzioni elencate sotto di esso fino a quando la condizione verificata è vera. Nel nostro esempio, quindi, le estruzioni saranno ripetute fino a quando `i` sarà minore di 5. \n",
    "Per fare un ciclo molto più \"python style\" dobbiamo usare il comando `for` abbinato al comando `range`.\n",
    "Iniziamo proprio dal secondo. Sapete cosa significa la parola *range* in inglese? Significa *intervallo*. Sapendo questa cosa credo che possiate facilmente immaginare cosa fa il comando qui sotto.\n"
   ]
  },
  {
   "cell_type": "code",
   "execution_count": null,
   "metadata": {},
   "outputs": [],
   "source": [
    "print(list(range(0,5)))"
   ]
  },
  {
   "cell_type": "markdown",
   "metadata": {},
   "source": [
    "Quello che abbiamo fatto qui sopra è di stampare una lista (di numeri) nell'*intervallo* da 0 a 5. Il comando `range`, insomma, fa per voi quello che abbiamo fatto nel programma sopra: stampa i numeri nell'*intervallo* da 0 a 5. Ma se ora vi dico che il comando `for..in` ci permette di fare un ciclo per ogni elemento di un certo *intervallo*...allora possiamo riscrivere il ciclo `while` sopra in modo più compatto e più \"Python style\"!\n"
   ]
  },
  {
   "cell_type": "code",
   "execution_count": null,
   "metadata": {},
   "outputs": [],
   "source": [
    "for i in range(0,5):\n",
    "    print(\"ciao\" +str(i))"
   ]
  },
  {
   "cell_type": "markdown",
   "metadata": {},
   "source": [
    "Più comodo vero? Si rischia anche meno di sbagliare. Abbiamo infatti scritto 2 righe in meno di codice (l'assegnazione della variabile `i = 0` e la somma `i= i +1` ) e, credetemi, anche le righe più semplici possono avere degli errori di distrazione!\n",
    "Per riassumere, abbiamo visto le basi dei concetti relativi ai cicli e abbiamo introdotto il comando `range` che crea una lista di numeri da scorrere con il comando `for`."
   ]
  },
  {
   "cell_type": "markdown",
   "metadata": {},
   "source": [
    "I più attenti si saranno accorti che nel penultimo pezzo di codice abbiamo stampato il nostro `range` come una lista. Le liste sono uno degli strumenti più utili in Python ed in generale in un linguaggio di programmazione. Quindi non poteva mancare [il capitolo dedicato alle liste](./Liste.ipynb)"
   ]
  }
 ],
 "metadata": {
  "kernelspec": {
   "display_name": "Python 3",
   "language": "python",
   "name": "python3"
  },
  "language_info": {
   "codemirror_mode": {
    "name": "ipython",
    "version": 3
   },
   "file_extension": ".py",
   "mimetype": "text/x-python",
   "name": "python",
   "nbconvert_exporter": "python",
   "pygments_lexer": "ipython3",
   "version": "3.7.6"
  }
 },
 "nbformat": 4,
 "nbformat_minor": 4
}
