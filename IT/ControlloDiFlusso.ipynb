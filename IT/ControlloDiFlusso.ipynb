{
 "cells": [
  {
   "cell_type": "markdown",
   "metadata": {},
   "source": [
    "# Controllo di flusso\n",
    "\n",
    "Eh? Controllo di che cosa? Lo so che vi state chiedendo cosa significa. Iniziamo dicendo che il flusso di un programma è la sequenza di operazioni che vengono eseguite. Abbiamo già visto che il più semplice dei flussi è quello in cui le istruzioni vengono eseguite una dopo l'altra nell'ordine in cui sono state scritte. Ad esempio se date un'occhiata al codice qui sotto cosa vi aspettate che faccia? Semplicemente che esegua le due stampe l'una dopo l'altra, giusto? `CTRL` + `↵ Invio`: provate tanto per esserne sicuri..."
   ]
  },
  {
   "cell_type": "code",
   "execution_count": null,
   "metadata": {},
   "outputs": [],
   "source": [
    "print(\"prima stampa\")\n",
    "print(\"seconda stampa\")"
   ]
  },
  {
   "cell_type": "markdown",
   "metadata": {},
   "source": [
    "Si chiama flusso perchè dovete pensare ad un fiume che scorre dall'alto in basso. Ci sono però delle istruzioni fatte apposta per deviare questo flusso. \n",
    "L'istruzione più semplice per fare questa cosa è l'istruzione `if`, che in inglese significa `se`. `if` verifica una condizione e se questa è vera esegue una sequenza di istruzioni elencate sotto ad `if`. Altrimenti, se la condizione non è vera, viene eseguita un'altra sequenza di istruzioni elencate sotto al comando `else` (che in inglese significa `altrimenti`). Diamo una occhiata al codice qui sotto. Cosa vi aspettate che stampi? Provate a vedere se avevate ragione con  `CTRL` + `↵ Invio`."
   ]
  },
  {
   "cell_type": "code",
   "execution_count": null,
   "metadata": {},
   "outputs": [],
   "source": [
    "numero = 4\n",
    "if numero > 5:\n",
    "    print(\"il numero è maggiore di 5\")\n",
    "else:\n",
    "    print(\"il numero è minore o uguale a 5\")"
   ]
  },
  {
   "cell_type": "markdown",
   "metadata": {},
   "source": [
    "Provate a modificare il codice scritto sopra, assegnando alla variabile `numero` un numero più grande di 5. Il flusso va nell'altro ramo come ci aspettavamo, vero?\n",
    "Parliamo di rami di codice perchè quello che viene eseguito in un caso o nell'altro può essere una sequenza di istruzioni, non solo un'istruzione singola. Diamo un'occhiata ed eseguiamo questo codice (anche qui provate a cambiare il valore di numero e rieseguire per vedere entrambi i comportamenti)."
   ]
  },
  {
   "cell_type": "code",
   "execution_count": null,
   "metadata": {},
   "outputs": [],
   "source": [
    "numero = 10\n",
    "print(\"iniziamo\")\n",
    "if numero > 5:\n",
    "    print(\"sono entrato nel ramo del 'se' perchè\")\n",
    "    print(\"il numero è maggiore di 5\")\n",
    "else:\n",
    "    print(\"il numero è minore o uguale a 5\")\n",
    "    print(\"e quindi sono entrato nel ramo del 'altrimenti'\")\n",
    "print(\"questa stampa la faccio sempre\")\n",
    "print(\"anche questa\")"
   ]
  },
  {
   "cell_type": "markdown",
   "metadata": {},
   "source": [
    "Se guardate il codice sopra, potete capire intuitivamente che i blocchi di codice si riconoscono per la posizione che hanno. In pratica ogni volta che mi sposto di 4 spazi (si dice \"indentare\") creo un nuovo blocco di codice. Questo spostamento di solito si fa con il tasto `Tab ⇆` sulla tastiera. Questi spostamenti, che in molti linguaggi sono facoltativi e spesso sotituiti dalle parentesi graffe, in Python sono obbligatori. Guardando il codice sopra si riconoscono facilmente i blocchi di codice e come questi si ramificano. C'è un flusso principale (quello non spostato) che si esegue; quando si raggiune l'istruzione `if` il flusso viene deviato in uno dei due rami; quando tutte le istruzioni che formano il blocco selezionato sono finite si torna comunque al flusso principale e si eseguono le ultime due `print`. Tutto chiaro fin qui? Ovviamente le ramificazioni si possono complicare un po' mettendo all'interno dei vari blocchi altre ramificazioni. Date un'occhiata qui sotto e come sempre provate ad immaginare cosa succederà prima di provare con `CTRL` + `↵ Invio`."
   ]
  },
  {
   "cell_type": "code",
   "execution_count": null,
   "metadata": {},
   "outputs": [],
   "source": [
    "numero = 3\n",
    "if numero > 1:\n",
    "    print(\"il numero è maggiore di 1\")\n",
    "    print(\"continuiamo\")\n",
    "    if numero >2:\n",
    "        print(\"il numero è maggiore di 2\")\n",
    "        print(\"continuiamo\")\n",
    "        if numero >3:\n",
    "            print(\"il numero è maggiore di 3\")\n",
    "            print(\"mi fermo\")\n",
    "        else:\n",
    "            print(\"il numero non è maggiore di 3\")\n",
    "            print(\"ma dato che il numero era maggiore di 2\")\n",
    "            print(\"il numero è 3!\")\n",
    "print(\"ho finito\")\n",
    "        \n",
    "        "
   ]
  },
  {
   "cell_type": "markdown",
   "metadata": {},
   "source": [
    "Un'ultima nota: la parte dell'\"altrimenti\" (`else`), non è obbligatoria. In pratica se volete deviare il flusso solo se la condizione è vera, ma non c'è qualcosa di alternativo da far fare in caso contrario, potete anche scrivere un codice come questo sotto. Quello che fa è stampare `il numero è maggiore di 3` solo se la condizione è vera e poi stampare comunque `fine` nel flusso principale. Provate ad eseguirlo con diversi numeri e poi a cambiare un po' (suggerimenti: provate ad aggiungere un ramo con `else` e riprovate, poi provate scrivere un altro `if` nel flusso principale con una condizione diversa e riprovate)."
   ]
  },
  {
   "cell_type": "code",
   "execution_count": null,
   "metadata": {},
   "outputs": [],
   "source": [
    "numero = 3\n",
    "if numero >= 3:\n",
    "    print(\"il numero è maggiore di 3\")\n",
    "print(\"fine\")"
   ]
  },
  {
   "cell_type": "markdown",
   "metadata": {},
   "source": [
    "Non abbiamo ancora sottolineato che ci sono dei simboli obbligatori per scrivere le istruzioni nei vari linguaggi. Ad esempio devo mettere la condizione che devo verificare (`numero > 3`) e poi alla fine devo mettere due punti per dire al computer che la condizione finisce lì e che quello che c'è dopo è un'altra cosa, ovvero il blocco di codice che deve eseguire. Questi caratteri sono un po' come le virgole e i vari segni di punteggiatura quando scrivete in italiano, servono per far capire al computer dove inizia e finisce una parte dell'istruzione (ad esempio la condizione). Il computer è meno flessibile di noi (che magari con un po' di fatica riusciamo a leggere una frase anche se tutte le virgole sono messe male). Basta sbagliare la posizione di uno di questo simboli (o la posizione, `indentatura`, si un blocco) e il computer vi dà un errore. Guardate i due programmi seguenti e provate ad eseguirli...ottenete un errore. Provate a correggerli...Suggerimento: il primo programma contiene 2 errori ed il secondo 4 (visto? Se non si sta attenti si possono fare un sacco di errori in poche righe!). Il computer vi segnala un solo errore per volta spiegandovi cosa non va (in inglese ovviamente), corretto il primo lo rieseguite e vedete il secondo, ecc. Quando sarà tutto apposto vedrete il programma funzionare."
   ]
  },
  {
   "cell_type": "code",
   "execution_count": null,
   "metadata": {},
   "outputs": [],
   "source": [
    "numero = 4\n",
    "if numero > 3 \n",
    "    print(\"il numero è maggiore di 3\")\n",
    "print(funziona)"
   ]
  },
  {
   "cell_type": "code",
   "execution_count": null,
   "metadata": {},
   "outputs": [],
   "source": [
    "numero = \"a\"\n",
    "if numero > 3\n",
    "    print(\"il numero\")\n",
    "   print(\"è maggiore di 3\") \n",
    "print \"fuziona\")"
   ]
  },
  {
   "cell_type": "markdown",
   "metadata": {},
   "source": [
    "Ci siete riusciti? Nel primo codice mancava `:` dopo la condizione dell'`if` e mancavano le virgolette intorno a `funziona`. Nel secondo: era sbagliata l'indentazione della seconda `print`, mancava ancora `:`, mancava una parentesi tonda prima di`\"funziona\"` ed infine la variabile doveva contenere un numero, altrimenti non è possibile fare il confronto con il simbolo `>` che funziona solo sui numeri."
   ]
  },
  {
   "cell_type": "markdown",
   "metadata": {},
   "source": [
    "Ci sono programmatori che preferiscono scrivere due `if` con condizioni opposte invece dell'`else` perchè pensano che sia più facile da leggere. Se anche a voi piace va benissimo, dovete solo stare attenti a come scrivete le condizioni. Secondo voi i due programmi qui sotto fanno la stessa cosa?"
   ]
  },
  {
   "cell_type": "code",
   "execution_count": null,
   "metadata": {},
   "outputs": [],
   "source": [
    "numero = 3\n",
    "if numero > 3:\n",
    "    print(\"il numero è maggiore di 3\")\n",
    "else :\n",
    "    print(\"il numero non è maggiore di 3\")\n",
    "print(\"fine\")"
   ]
  },
  {
   "cell_type": "code",
   "execution_count": null,
   "metadata": {},
   "outputs": [],
   "source": [
    "numero = 3\n",
    "if numero > 3:\n",
    "    print(\"il numero è maggiore di 3\")\n",
    "if numero < 3:\n",
    "    print(\"il numero non è maggiore di 3\")\n",
    "print(\"fine\")"
   ]
  },
  {
   "cell_type": "markdown",
   "metadata": {},
   "source": [
    "Se avete provato ad eseguirli, avrete visto che il secondo programma non stampa `il numero non è maggiore di 3`. Quindi il secondo programma è sbagliato. Però quando lo eseguite non vi da nessun errore...sì, questo succede perchè è scritto nel modo giusto, non mancano simboli come parentesi o altro (si dice che è giusta la sintassi, cioè il modo in cui è scritto). Ma allora cosa c'è di sbagliato? Ad essere sbagliata è la logica con cui lo abbiamo scritto, ovvero il significato di quello che abbiamo scritto (che si chiama semantica). Insomma siamo noi programmatori che abbiamo detto al computer di fare una cosa sbagliata. Lo sapreste correggere? Suggerimento: un numero non è maggiore di 3 quando è minore...e poi?"
   ]
  },
  {
   "cell_type": "markdown",
   "metadata": {},
   "source": [
    "Il flusso di un programma può essere deviato come abbiamo appena visto. Inoltre esistono anche comandi per ripetere una parte del flusso in modo ciclico. Curiosi? Andiamo al capitolo successivo sui [cicli](./Cicli.ipynb)."
   ]
  }
 ],
 "metadata": {
  "kernelspec": {
   "display_name": "Python 3",
   "language": "python",
   "name": "python3"
  },
  "language_info": {
   "codemirror_mode": {
    "name": "ipython",
    "version": 3
   },
   "file_extension": ".py",
   "mimetype": "text/x-python",
   "name": "python",
   "nbconvert_exporter": "python",
   "pygments_lexer": "ipython3",
   "version": "3.7.6"
  }
 },
 "nbformat": 4,
 "nbformat_minor": 4
}
