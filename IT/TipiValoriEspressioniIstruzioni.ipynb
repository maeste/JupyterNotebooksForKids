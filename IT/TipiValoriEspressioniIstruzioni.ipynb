{
 "cells": [
  {
   "cell_type": "markdown",
   "metadata": {},
   "source": [
    "# Tipi, Valori, Espressioni, Istruzioni\n",
    "\n",
    "Un lungo elenco...sembra noioso. Ma no dai, facciamo in fretta! \n",
    "\n",
    "Iniziamo dicendo che in questo elenco mancherebbero le variabili, che però abbiamo già visto nel capito dedicato.\n",
    "\n",
    "In realtà mancano anche i commenti. Iniziamo da quelli. I commenti sono del testo libero che potete inserire in un programma per descrivere a chi sta leggendo che cosa fa il programma. Quel testo ovviamente non deve essere eseguito dal computer ed ogni linguaggio ha il suo modo per evidenziare che una parte del programma è un commento e non deve essere trattato come codice.\n",
    "\n",
    "In Python tutto quello che segue il simbolo `#` è un commento."
   ]
  },
  {
   "cell_type": "code",
   "execution_count": null,
   "metadata": {},
   "outputs": [],
   "source": [
    "#questa è una riga fatta solo da un commento\n",
    "print(\"ciao\") #questo commento è relativo alla istruzione print. Il computer esegue il print, ma non il resto dlla riga\n",
    "#se nel commento metto una istruzione valida, questa verrà comunque ignorata print(\"ri-ciao\")"
   ]
  },
  {
   "cell_type": "markdown",
   "metadata": {},
   "source": [
    "Inziamo a dire che cos'è un'istruzione. Un’istruzione è una porzione di codice che Python può eseguire e che ha un qualche effetto, come creare una variabile o mostrare un valore. Insomma tutto esclusi i commenti.  \n",
    "\n",
    "Fin qui tutto chiaro? Abbiamo visto come si usano le variabili, ma se volessimo definirle con una frase potremmo dire che una variabile è un nome che fa riferimento ad un valore. Invece l'istruzione che assegna un valore ad una variabile si chiama istruzione di assegnazione.\n",
    "\n",
    "Ed una espressione? "
   ]
  },
  {
   "cell_type": "code",
   "execution_count": null,
   "metadata": {},
   "outputs": [],
   "source": [
    "messaggio = \"ciao mondo\" #istruzione di assegnazione che assegna alla variabiale messaggio il valore \"ciao mondo\"\n",
    "numero = 5 #istruzione di assegnazione che assegna alla variabiale numero il valore 5"
   ]
  },
  {
   "cell_type": "markdown",
   "metadata": {},
   "source": [
    "E un'espressione cos'è? Una combinazione di valori, variabili e operatori (le operazioni + - ecc.). Se ci pensate bene è quello che scrivete anche in matematica quando applicate una formula. Un valore è considerato già di per sé un’espressione, come pure una variabile, per cui quelle che seguono sono tutte delle espressioni valide. Ma ovviamente un' espressione diventa interessante quando ci sono degli operatori che vengono eseguiti in una certa sequenza, rispettando certe precedenze, proprio come in matematica. In Python la sequenza è proprio la stessa usata in matematica e a cui siete già abituati e che si può ricordare più facilenete con la sigla PEDMAS:\n",
    "* **P**arentesi: prima vengono eseguite tutte le operazioni dentro alle parentesi\n",
    "* **E**levamento a potenza (che a proposito in Python si fa con due asterischi attaccati `**`)\n",
    "* **D**ivisione e **M**oltiplicazione (rispettivamente fatte con `/` e `*`)\n",
    "* **A**ddizione e **S**ottrazione\n",
    "\n",
    "Quindi provate a dare un'occhiata al programmino qui sotto e immaginatevi cosa stamperà. Provate poi ad eseguirlo e vedete se avevate ragione.\n"
   ]
  },
  {
   "cell_type": "code",
   "execution_count": null,
   "metadata": {},
   "outputs": [],
   "source": [
    "risultato1 = (5+4) * (3-1) #ricordate prima le parentesi\n",
    "print(risultato1)\n",
    "risultato2 = 8 * 2 / 4 + 5 #ricordate la sigla PEDMAS...\n",
    "print(risultato2)\n",
    "risultato3 = (3 ** 2 - 1) / 4 #ricordatevi che ** vuol dire elevare a potenza, quindi qui è 3 al quadrato\n",
    "print(risultato3)\n",
    "risultatofinale = risultato1 + risultato2 * risultato3\n",
    "print(risultatofinale)"
   ]
  },
  {
   "cell_type": "markdown",
   "metadata": {},
   "source": [
    "##### "
   ]
  },
  {
   "cell_type": "markdown",
   "metadata": {},
   "source": [
    "Se avete eseguito il programma qui sopra avrete visto che gli ultimi risultati avevano la virgole (9.0 2.0 36.0). Perchè? Perchè il risultato di una divisione in Python non è un numero intero, ma un numero con la virgola.\n",
    "\n",
    "Questo ci introduce all'ultimo argomento di questo capitolo, cioè i **Tipi e i Valori**.\n",
    "\n",
    "Un valore è uno degli elementi di base che un programma è in grado di elaborare, come ad esempio una lettera oppure un numero. Tra i valori che abbiamo visto finora ci sono: 2, 42.0 e 'Ciao, Mondo!'.\n",
    "Questi valori appartengono a tipi diversi: 2 è un numero intero (in Python `int`), 42.0 è un numero decimale detto anche “a virgola mobile” (in Python `float`) e 'Ciao, Mondo!' è una stringa, in quanto costituito da una sequenza di singoli caratteri collegati (dal verbo inglese \"to string\", che ha anche il significato di “legare insieme”).\n",
    "Inoltre un tipo è una categoria di valori. Python è uno dei linguaggi che decide per voi e in modo dinamico il tipo di un valore o di una variabile a seconda del contesto (ci sono altri linguaggi che chiedono a voi programmatori di dichairarlo con un'istruzione).\n",
    "Il fatto che decida lui è comodo, ma a volte abbiamo bisogno di sapere di che tipo sia un valore o una variabile. Dato un valore possiamo chiedere a Python di che tipo sia con il comando `type`. Questo esempio sarà utile per capire un po' meglio:\n"
   ]
  },
  {
   "cell_type": "code",
   "execution_count": null,
   "metadata": {},
   "outputs": [],
   "source": [
    "print(type(\"ciao mondo\"))\n",
    "print(type(\"36\"))\n",
    "print(type(36))\n",
    "print(type(36.0))\n",
    "variabile = 36\n",
    "print(type(variabile))\n",
    "variabile = variabile / 2\n",
    "print(type(variabile))\n",
    "lista = [5, 6, 5, \"pippo\"]\n",
    "print(type(lista))\n",
    "print(type(lista[0]))\n",
    "print(type(lista[3]))"
   ]
  },
  {
   "cell_type": "markdown",
   "metadata": {},
   "source": [
    "Avrete visto che nella stringa \"36\" il numero 36 e il numero 36.0 sono di due tipi diversi. E avrete anche notato che un variabile può anche cambiare tipo se le si assegna un valore di un tipo diverso (nel nostro caso il risultato dell'espressione con la divisione).\n",
    "\n",
    "Perchè è importante avere tipi diversi? Per un sacco di motivi, ma in particolare perchè a seconda del tipo gli operatori (ad esempio il `+`) e le funzioni (tipo `print()`) fanno cose diverse. Diamo un'occhiata all'esempio qui sotto:\n"
   ]
  },
  {
   "cell_type": "code",
   "execution_count": null,
   "metadata": {},
   "outputs": [],
   "source": [
    "valore1 = 5 + 5 #qui il + somma i due numeri\n",
    "print(valore1) #qui il print stampa il valore\n",
    "valore2 = \"ciao \" + \"mondo\" #qui il + mette insieme le due stringhe\n",
    "print(valore2) #qui il print stampa ancora il valore\n",
    "lista = [5, 6, 5, \"pippo\"]\n",
    "print(lista) #qui il print fa una cosa diversa, stampando tutti i valori della lista\n"
   ]
  },
  {
   "cell_type": "markdown",
   "metadata": {},
   "source": [
    "Ho quasi finito...\n",
    "\n",
    "Lasciatemi solo dire che i tipi sono importanti anche perchè ci danno dei limiti. Ad esempio se uso un operatore su due tipi diversi Python non fa una cosa strana o difficile da prevedere...semplicemente da un errore."
   ]
  },
  {
   "cell_type": "code",
   "execution_count": null,
   "metadata": {},
   "outputs": [],
   "source": [
    "print(\"ciao \" + 3)"
   ]
  },
  {
   "cell_type": "markdown",
   "metadata": {},
   "source": [
    "L'errore sopra può essere corretto usando una finzione che converte il numero in una stringa."
   ]
  },
  {
   "cell_type": "code",
   "execution_count": null,
   "metadata": {},
   "outputs": [],
   "source": [
    "type(3)\n",
    "type(str(3))\n",
    "print(\"ciao \" + str(3))"
   ]
  },
  {
   "cell_type": "markdown",
   "metadata": {},
   "source": [
    "Quante cose avete imparato in questo capitolo!\n",
    "\n",
    "Ormai avete tutti gli strumenti per scrivere dei programmi che siano utili. Quindi prima di continuare con i concetti più avanzati che vi permetteranno di definire le vostre funzioni e addirittura i vostri tipi personalizzati...proviamo a fare un po' di esercizio scirvendo qualche [programma per risolvere semplici problemi](./ProgrammiPerRisolvereProblemi.ipynb)"
   ]
  }
 ],
 "metadata": {
  "file_extension": ".py",
  "kernelspec": {
   "display_name": "Python 3.7.6 64-bit",
   "language": "python",
   "name": "python37664bita25a31a5f39044fbb1866552691113ca"
  },
  "language_info": {
   "codemirror_mode": {
    "name": "ipython",
    "version": 3
   },
   "file_extension": ".py",
   "mimetype": "text/x-python",
   "name": "python",
   "nbconvert_exporter": "python",
   "pygments_lexer": "ipython3",
   "version": "3.7.6"
  },
  "mimetype": "text/x-python",
  "name": "python",
  "npconvert_exporter": "python",
  "pygments_lexer": "ipython3",
  "version": 3
 },
 "nbformat": 4,
 "nbformat_minor": 4
}
