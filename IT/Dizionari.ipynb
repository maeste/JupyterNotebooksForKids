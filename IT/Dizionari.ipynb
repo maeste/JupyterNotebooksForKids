{
 "cells": [
  {
   "cell_type": "markdown",
   "metadata": {},
   "source": [
    "# Dictionary\n",
    "\n",
    "In tutti i linguaggi di programmazione c'è la possibilità di definire degli elenchi di coppie chiave-valore. In genere questi costrutti si chiamano mappe.\n",
    "\n",
    "Capito tutto? No?\n",
    "\n",
    "Proviamo a dirla \"alla Python\" e vediamo se è più chiaro. In Python esistono i cosidetti dizionari (in inglese `dictionary`) che vi permettono di fare un elenco di oggetti (stringhe di numeri o di altri oggetti) a cui è associato un altro oggetto, proprio come in un dizionario in cui ad una parola viene associata la sua spiegazione. Un buon esempio che rende l'idea è un elenco telefonico, o un'agenda settimanale con le cose da fare. Vediamo questi due esempi:"
   ]
  },
  {
   "cell_type": "code",
   "execution_count": null,
   "metadata": {},
   "outputs": [],
   "source": [
    "elenco_telefonico = {\n",
    "    \"zia\": \"333-445566\",\n",
    "    \"mamma\": \"322-557890\",\n",
    "    \"signor rossi\": \"344-552233\"\n",
    "}\n",
    "agenda_settimanale = {\n",
    "    \"lunedi\": \"matematica\",\n",
    "    \"martedi\": \"italiano\",\n",
    "    \"mercoledi\": \"fisica\",\n",
    "    \"giovedi\" : \"musica\",\n",
    "    \"venerdi\" : \"danza\"\n",
    "}\n",
    "print(elenco_telefonico)\n",
    "print(agenda_settimanale)"
   ]
  },
  {
   "cell_type": "markdown",
   "metadata": {},
   "source": [
    "Come vedete ogni riga è composta da due elementi: il primo si chiama chiave (in inglese `key`) ed il secondo valore (in inglese `value`).\n",
    "\n",
    "Adesso, se voglio recuperare un elemnto di questi dizionari, come faccio? I dizionari sono una specie di indice, quindi usando la chiave posso ottenere facilmente il valore. In pratica, se nelle liste si accede ad un certo elemento dando la posizione numerica, qui si usa la chiave."
   ]
  },
  {
   "cell_type": "code",
   "execution_count": null,
   "metadata": {},
   "outputs": [],
   "source": [
    "print(elenco_telefonico[\"signor rossi\"])\n",
    "print(agenda_settimanale[\"venerdi\"])"
   ]
  },
  {
   "cell_type": "markdown",
   "metadata": {},
   "source": [
    "C'è anche un altro modo di accedere agli elementi, che ha il vantaggio di rendere chiaro che si tratta di un dizionario e non di una lista e anche di poter dare un valore predefinito nel caso in cui la chiave non sia presente nel dizionario."
   ]
  },
  {
   "cell_type": "code",
   "execution_count": null,
   "metadata": {},
   "outputs": [],
   "source": [
    "print(\"signor rossi:\" + elenco_telefonico.get(\"signor rossi\", \"non trovato\"))\n",
    "print(\"signor bianchi:\" + elenco_telefonico.get(\"signor bianchi\", \"non trovato\"))"
   ]
  },
  {
   "cell_type": "markdown",
   "metadata": {},
   "source": [
    "Vi dicevo prima che il valore può essere un qualsiasi oggetto, non solo una stringa. Ad esempio una cosa molto potente è mettere come valore una lista. E allora la nostra agenda può diventare:\n"
   ]
  },
  {
   "cell_type": "code",
   "execution_count": null,
   "metadata": {},
   "outputs": [],
   "source": [
    "agenda_settimanale = {\n",
    "    \"lunedi\": [\"matematica\", \"italiano\", \"italiano\", \"scienze\", \"storia\"],\n",
    "    \"martedi\": [\"italiano\", \"matematica\", \"geometria\", \"inglese\", \"spagnolo\"],\n",
    "    \"mercoledi\": [\"ginnastica\", \"ginnastica\", \"inglese\", \"geografia\", \"tecnologia\"],\n",
    "    \"giovedi\" : [\"musica\", \"informatica\", \"informatica\", \"arte\", \"matematica\"],\n",
    "    \"venerdi\" : [\"italiano\", \"italiano\",\"matematica\", \"geometria\", \"inglese\" ]\n",
    "}\n",
    "print(agenda_settimanale)"
   ]
  },
  {
   "cell_type": "markdown",
   "metadata": {},
   "source": [
    "Un dizionario così può essere uno strumento piuttosto potente per fare dei programmi. Proviamo a mettere insieme un po' delle conoscenze che avete a questo punto e scriviamo questo programma (provate a capire cosa fa prima di provarlo):"
   ]
  },
  {
   "cell_type": "code",
   "execution_count": null,
   "metadata": {},
   "outputs": [],
   "source": [
    "giorno = input(\"quale giorno ti interessa?\")\n",
    "ora = int(input(\"quale ora ti interessa? (0 per tutto oppure 1-5\"))\n",
    "if (ora > 0):\n",
    "    print(\"il giorno \" + giorno + \" all'ora \" + str(ora) + \":\" + agenda_settimanale[giorno][ora])\n",
    "else:    \n",
    "    print(\"il giorno \" + giorno)\n",
    "    for i in range(0,5):\n",
    "        print(\"ora \" + str(i) + \":\" + agenda_settimanale[giorno][i])"
   ]
  },
  {
   "cell_type": "markdown",
   "metadata": {},
   "source": [
    "Bello vero? Potreste anche modificare il programma per accettare anche \"tutti\" come giorno possibile. Provate a farlo qui sotto seguendo le specifiche che vi do:\n",
    "\n",
    "* Se il giorno è un giorno della settimana valido il programma si deve comportare come quello sopra ovvero:\n",
    "    * Se viene indicata un'ora specifica stampare la materia per quel giorno e quell'ora\n",
    "    * Se viene indicata ora 0 deve stampare tutte le ore per quel giorno\n",
    "* Se il giorno indicato è \"tutti\" il programma deve:\n",
    "    * Se viene indicata un'ora specifica stampare la materia che c'è a quell'ora per ogni giorno della settimana\n",
    "    * Se l'ora indicata è 0 deve stampare l'orario completo con tutte le ore di tutti i giorni\n",
    "    \n",
    "    "
   ]
  },
  {
   "cell_type": "code",
   "execution_count": null,
   "metadata": {},
   "outputs": [],
   "source": [
    "giorno = input(\"quale giorno ti interessa? (scrivi tutti se vuoi tutti i giorni\")\n",
    "ora = int(input(\"quale ora ti interessa? (0 per tutto oppure 1-5\"))\n",
    "#continuate da qui...."
   ]
  },
  {
   "cell_type": "markdown",
   "metadata": {},
   "source": [
    "Siete riusciti a fare il programma? Allora siete quasi dei programmatori: avete imparato cosa sono le variabili, il controllo di flusso, i cicli, ed ora anche le strutture dati (perchè liste e dizionari sono due tipi di strutture dati)! Vi manca poco, dobbiamo ancora imparare ad organizzare un po' meglio i nostri programmi perchè siano più ordinati e perchè possiate riutilizzare pezzi del vostro codice più volte. Ma prima abbiamo bisogno di capire un paio di definizioni di base nel mondo della programmazione.\n",
    "Seguitemi 10 minuti mentre parliamo di [Tipi, valori, espressioni ed istruzioni](./TipiValoriEspressioniIstruzioni.ipynb)"
   ]
  }
 ],
 "metadata": {
  "file_extension": ".py",
  "kernelspec": {
   "display_name": "Python 3.7.6 64-bit",
   "language": "python",
   "name": "python37664bita25a31a5f39044fbb1866552691113ca"
  },
  "language_info": {
   "codemirror_mode": {
    "name": "ipython",
    "version": 3
   },
   "file_extension": ".py",
   "mimetype": "text/x-python",
   "name": "python",
   "nbconvert_exporter": "python",
   "pygments_lexer": "ipython3",
   "version": "3.7.6"
  },
  "mimetype": "text/x-python",
  "name": "python",
  "npconvert_exporter": "python",
  "pygments_lexer": "ipython3",
  "version": 3
 },
 "nbformat": 4,
 "nbformat_minor": 4
}
